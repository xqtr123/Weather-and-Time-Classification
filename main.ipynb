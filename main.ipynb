{
 "cells": [
  {
   "cell_type": "markdown",
   "metadata": {},
   "source": [
    "读取数据"
   ]
  },
  {
   "cell_type": "code",
   "execution_count": 2,
   "metadata": {},
   "outputs": [],
   "source": [
    "import pandas as pd"
   ]
  },
  {
   "cell_type": "code",
   "execution_count": 3,
   "metadata": {},
   "outputs": [],
   "source": [
    "train_json = pd.read_json('../train_dataset/train.json')"
   ]
  },
  {
   "cell_type": "code",
   "execution_count": 4,
   "metadata": {},
   "outputs": [
    {
     "data": {
      "text/plain": [
       "{'filename': 'train_images\\\\00001.jpg',\n",
       " 'period': 'Morning',\n",
       " 'weather': 'Cloudy'}"
      ]
     },
     "execution_count": 4,
     "metadata": {},
     "output_type": "execute_result"
    }
   ],
   "source": [
    "train_json['annotations'][0]"
   ]
  },
  {
   "cell_type": "code",
   "execution_count": 5,
   "metadata": {},
   "outputs": [],
   "source": [
    "# 改成图片的路径格式\n",
    "train_json['filename'] = train_json['annotations'].apply(lambda x : x['filename'].replace('\\\\', '/'))\n",
    "train_json['period'] = train_json['annotations'].apply(lambda x : x['period'])\n",
    "train_json['weather'] = train_json['annotations'].apply(lambda x : x['weather'])\n"
   ]
  },
  {
   "cell_type": "code",
   "execution_count": 6,
   "metadata": {},
   "outputs": [
    {
     "data": {
      "text/html": [
       "<div>\n",
       "<style scoped>\n",
       "    .dataframe tbody tr th:only-of-type {\n",
       "        vertical-align: middle;\n",
       "    }\n",
       "\n",
       "    .dataframe tbody tr th {\n",
       "        vertical-align: top;\n",
       "    }\n",
       "\n",
       "    .dataframe thead th {\n",
       "        text-align: right;\n",
       "    }\n",
       "</style>\n",
       "<table border=\"1\" class=\"dataframe\">\n",
       "  <thead>\n",
       "    <tr style=\"text-align: right;\">\n",
       "      <th></th>\n",
       "      <th>annotations</th>\n",
       "      <th>filename</th>\n",
       "      <th>period</th>\n",
       "      <th>weather</th>\n",
       "    </tr>\n",
       "  </thead>\n",
       "  <tbody>\n",
       "    <tr>\n",
       "      <th>0</th>\n",
       "      <td>{'filename': 'train_images\\00001.jpg', 'period...</td>\n",
       "      <td>train_images/00001.jpg</td>\n",
       "      <td>Morning</td>\n",
       "      <td>Cloudy</td>\n",
       "    </tr>\n",
       "    <tr>\n",
       "      <th>1</th>\n",
       "      <td>{'filename': 'train_images\\00002.jpg', 'period...</td>\n",
       "      <td>train_images/00002.jpg</td>\n",
       "      <td>Afternoon</td>\n",
       "      <td>Cloudy</td>\n",
       "    </tr>\n",
       "    <tr>\n",
       "      <th>2</th>\n",
       "      <td>{'filename': 'train_images\\00003.jpg', 'period...</td>\n",
       "      <td>train_images/00003.jpg</td>\n",
       "      <td>Morning</td>\n",
       "      <td>Cloudy</td>\n",
       "    </tr>\n",
       "    <tr>\n",
       "      <th>3</th>\n",
       "      <td>{'filename': 'train_images\\00004.jpg', 'period...</td>\n",
       "      <td>train_images/00004.jpg</td>\n",
       "      <td>Morning</td>\n",
       "      <td>Sunny</td>\n",
       "    </tr>\n",
       "    <tr>\n",
       "      <th>4</th>\n",
       "      <td>{'filename': 'train_images\\00005.jpg', 'period...</td>\n",
       "      <td>train_images/00005.jpg</td>\n",
       "      <td>Afternoon</td>\n",
       "      <td>Cloudy</td>\n",
       "    </tr>\n",
       "  </tbody>\n",
       "</table>\n",
       "</div>"
      ],
      "text/plain": [
       "                                         annotations                filename  \\\n",
       "0  {'filename': 'train_images\\00001.jpg', 'period...  train_images/00001.jpg   \n",
       "1  {'filename': 'train_images\\00002.jpg', 'period...  train_images/00002.jpg   \n",
       "2  {'filename': 'train_images\\00003.jpg', 'period...  train_images/00003.jpg   \n",
       "3  {'filename': 'train_images\\00004.jpg', 'period...  train_images/00004.jpg   \n",
       "4  {'filename': 'train_images\\00005.jpg', 'period...  train_images/00005.jpg   \n",
       "\n",
       "      period weather  \n",
       "0    Morning  Cloudy  \n",
       "1  Afternoon  Cloudy  \n",
       "2    Morning  Cloudy  \n",
       "3    Morning   Sunny  \n",
       "4  Afternoon  Cloudy  "
      ]
     },
     "execution_count": 6,
     "metadata": {},
     "output_type": "execute_result"
    }
   ],
   "source": [
    "train_json.head()"
   ]
  },
  {
   "cell_type": "markdown",
   "metadata": {},
   "source": [
    "标签编码"
   ]
  },
  {
   "cell_type": "code",
   "execution_count": 7,
   "metadata": {},
   "outputs": [],
   "source": [
    "# 标签编码\n",
    "train_json['period'], period_dict = pd.factorize(train_json['period'])\n",
    "train_json['weather'], weather_dict = pd.factorize(train_json['weather'])"
   ]
  },
  {
   "cell_type": "code",
   "execution_count": 8,
   "metadata": {},
   "outputs": [
    {
     "data": {
      "text/plain": [
       "(Index(['Morning', 'Afternoon', 'Dawn', 'Dusk'], dtype='object'),\n",
       " Index(['Cloudy', 'Sunny', 'Rainy'], dtype='object'))"
      ]
     },
     "execution_count": 8,
     "metadata": {},
     "output_type": "execute_result"
    }
   ],
   "source": [
    "period_dict,weather_dict"
   ]
  },
  {
   "cell_type": "code",
   "execution_count": null,
   "metadata": {},
   "outputs": [],
   "source": []
  },
  {
   "cell_type": "markdown",
   "metadata": {},
   "source": [
    "统计标签"
   ]
  },
  {
   "cell_type": "code",
   "execution_count": 9,
   "metadata": {},
   "outputs": [
    {
     "data": {
      "text/plain": [
       "0    1613\n",
       "1     829\n",
       "3     124\n",
       "2      34\n",
       "Name: period, dtype: int64"
      ]
     },
     "execution_count": 9,
     "metadata": {},
     "output_type": "execute_result"
    }
   ],
   "source": [
    "train_json['period'].value_counts()"
   ]
  },
  {
   "cell_type": "code",
   "execution_count": 10,
   "metadata": {},
   "outputs": [
    {
     "data": {
      "text/plain": [
       "0    1119\n",
       "1     886\n",
       "2     595\n",
       "Name: weather, dtype: int64"
      ]
     },
     "execution_count": 10,
     "metadata": {},
     "output_type": "execute_result"
    }
   ],
   "source": [
    "train_json['weather'].value_counts()"
   ]
  },
  {
   "cell_type": "markdown",
   "metadata": {},
   "source": [
    "对数据进行处理，首先得到数据，包括数据路径和数据的标签，对标签进行编码，对标签进行统计，部分标签对应数据过少，可对数据进行增强。"
   ]
  },
  {
   "cell_type": "code",
   "execution_count": 11,
   "metadata": {},
   "outputs": [
    {
     "data": {
      "text/html": [
       "<div>\n",
       "<style scoped>\n",
       "    .dataframe tbody tr th:only-of-type {\n",
       "        vertical-align: middle;\n",
       "    }\n",
       "\n",
       "    .dataframe tbody tr th {\n",
       "        vertical-align: top;\n",
       "    }\n",
       "\n",
       "    .dataframe thead th {\n",
       "        text-align: right;\n",
       "    }\n",
       "</style>\n",
       "<table border=\"1\" class=\"dataframe\">\n",
       "  <thead>\n",
       "    <tr style=\"text-align: right;\">\n",
       "      <th></th>\n",
       "      <th>annotations</th>\n",
       "      <th>filename</th>\n",
       "      <th>period</th>\n",
       "      <th>weather</th>\n",
       "    </tr>\n",
       "  </thead>\n",
       "  <tbody>\n",
       "    <tr>\n",
       "      <th>0</th>\n",
       "      <td>{'filename': 'train_images\\00001.jpg', 'period...</td>\n",
       "      <td>train_images/00001.jpg</td>\n",
       "      <td>0</td>\n",
       "      <td>0</td>\n",
       "    </tr>\n",
       "    <tr>\n",
       "      <th>1</th>\n",
       "      <td>{'filename': 'train_images\\00002.jpg', 'period...</td>\n",
       "      <td>train_images/00002.jpg</td>\n",
       "      <td>1</td>\n",
       "      <td>0</td>\n",
       "    </tr>\n",
       "    <tr>\n",
       "      <th>2</th>\n",
       "      <td>{'filename': 'train_images\\00003.jpg', 'period...</td>\n",
       "      <td>train_images/00003.jpg</td>\n",
       "      <td>0</td>\n",
       "      <td>0</td>\n",
       "    </tr>\n",
       "    <tr>\n",
       "      <th>3</th>\n",
       "      <td>{'filename': 'train_images\\00004.jpg', 'period...</td>\n",
       "      <td>train_images/00004.jpg</td>\n",
       "      <td>0</td>\n",
       "      <td>1</td>\n",
       "    </tr>\n",
       "    <tr>\n",
       "      <th>4</th>\n",
       "      <td>{'filename': 'train_images\\00005.jpg', 'period...</td>\n",
       "      <td>train_images/00005.jpg</td>\n",
       "      <td>1</td>\n",
       "      <td>0</td>\n",
       "    </tr>\n",
       "    <tr>\n",
       "      <th>...</th>\n",
       "      <td>...</td>\n",
       "      <td>...</td>\n",
       "      <td>...</td>\n",
       "      <td>...</td>\n",
       "    </tr>\n",
       "    <tr>\n",
       "      <th>2595</th>\n",
       "      <td>{'filename': 'train_images\\02996.jpg', 'period...</td>\n",
       "      <td>train_images/02996.jpg</td>\n",
       "      <td>1</td>\n",
       "      <td>1</td>\n",
       "    </tr>\n",
       "    <tr>\n",
       "      <th>2596</th>\n",
       "      <td>{'filename': 'train_images\\02997.jpg', 'period...</td>\n",
       "      <td>train_images/02997.jpg</td>\n",
       "      <td>0</td>\n",
       "      <td>2</td>\n",
       "    </tr>\n",
       "    <tr>\n",
       "      <th>2597</th>\n",
       "      <td>{'filename': 'train_images\\02998.jpg', 'period...</td>\n",
       "      <td>train_images/02998.jpg</td>\n",
       "      <td>0</td>\n",
       "      <td>2</td>\n",
       "    </tr>\n",
       "    <tr>\n",
       "      <th>2598</th>\n",
       "      <td>{'filename': 'train_images\\02999.jpg', 'period...</td>\n",
       "      <td>train_images/02999.jpg</td>\n",
       "      <td>0</td>\n",
       "      <td>2</td>\n",
       "    </tr>\n",
       "    <tr>\n",
       "      <th>2599</th>\n",
       "      <td>{'filename': 'train_images\\03000.jpg', 'period...</td>\n",
       "      <td>train_images/03000.jpg</td>\n",
       "      <td>1</td>\n",
       "      <td>1</td>\n",
       "    </tr>\n",
       "  </tbody>\n",
       "</table>\n",
       "<p>2600 rows × 4 columns</p>\n",
       "</div>"
      ],
      "text/plain": [
       "                                            annotations  \\\n",
       "0     {'filename': 'train_images\\00001.jpg', 'period...   \n",
       "1     {'filename': 'train_images\\00002.jpg', 'period...   \n",
       "2     {'filename': 'train_images\\00003.jpg', 'period...   \n",
       "3     {'filename': 'train_images\\00004.jpg', 'period...   \n",
       "4     {'filename': 'train_images\\00005.jpg', 'period...   \n",
       "...                                                 ...   \n",
       "2595  {'filename': 'train_images\\02996.jpg', 'period...   \n",
       "2596  {'filename': 'train_images\\02997.jpg', 'period...   \n",
       "2597  {'filename': 'train_images\\02998.jpg', 'period...   \n",
       "2598  {'filename': 'train_images\\02999.jpg', 'period...   \n",
       "2599  {'filename': 'train_images\\03000.jpg', 'period...   \n",
       "\n",
       "                    filename  period  weather  \n",
       "0     train_images/00001.jpg       0        0  \n",
       "1     train_images/00002.jpg       1        0  \n",
       "2     train_images/00003.jpg       0        0  \n",
       "3     train_images/00004.jpg       0        1  \n",
       "4     train_images/00005.jpg       1        0  \n",
       "...                      ...     ...      ...  \n",
       "2595  train_images/02996.jpg       1        1  \n",
       "2596  train_images/02997.jpg       0        2  \n",
       "2597  train_images/02998.jpg       0        2  \n",
       "2598  train_images/02999.jpg       0        2  \n",
       "2599  train_images/03000.jpg       1        1  \n",
       "\n",
       "[2600 rows x 4 columns]"
      ]
     },
     "execution_count": 11,
     "metadata": {},
     "output_type": "execute_result"
    }
   ],
   "source": [
    "train_json"
   ]
  },
  {
   "cell_type": "markdown",
   "metadata": {},
   "source": [
    "对数据进行预处理"
   ]
  },
  {
   "cell_type": "code",
   "execution_count": 12,
   "metadata": {},
   "outputs": [],
   "source": [
    "from torchvision import transforms as T\n",
    "from PIL import Image\n",
    "import torch\n",
    "from torch.utils.data import DataLoader, Dataset\n",
    "from torch import nn\n",
    "import numpy as np"
   ]
  },
  {
   "cell_type": "code",
   "execution_count": 13,
   "metadata": {},
   "outputs": [],
   "source": [
    "class WeatherDataset(Dataset):\n",
    "    def __init__(self, df):\n",
    "        super(WeatherDataset, self).__init__()\n",
    "        self.df = df\n",
    "\n",
    "        self.transform = T.Compose([\n",
    "            T.Resize(size=(340, 340)),\n",
    "            T.RandomCrop(size=(224, 224)),  # 随即裁剪\n",
    "            T.RandomRotation(10),   # 在(-10, 10)之间旋转一定角度\n",
    "            T.RandomHorizontalFlip(),   # 按照0.5的概率对图片进行水平翻转\n",
    "            T.RandomVerticalFlip(),     # 按照0.5的概率对图片进行垂直翻转\n",
    "            T.ToTensor(),\n",
    "            T.Normalize((0.5,), (0.5,))\n",
    "        ])\n",
    "\n",
    "    def __getitem__(self, index):\n",
    "        file_name = '../train_dataset/' + self.df['filename'].iloc[index]\n",
    "        img = Image.open(file_name)\n",
    "        img = self.transform(img)\n",
    "        return img, torch.tensor(self.df['period'].iloc[index]), torch.tensor(self.df['weather'].iloc[index])\n",
    "    def __len__(self):\n",
    "        return len(self.df)"
   ]
  },
  {
   "cell_type": "code",
   "execution_count": 14,
   "metadata": {},
   "outputs": [],
   "source": [
    "train_dataset = WeatherDataset(train_json.iloc[:-500])\n",
    "val_dataset = WeatherDataset(train_json.iloc[-500:])"
   ]
  },
  {
   "cell_type": "code",
   "execution_count": 1,
   "metadata": {},
   "outputs": [
    {
     "ename": "NameError",
     "evalue": "name 'train_dataset' is not defined",
     "output_type": "error",
     "traceback": [
      "\u001b[1;31m---------------------------------------------------------------------------\u001b[0m",
      "\u001b[1;31mNameError\u001b[0m                                 Traceback (most recent call last)",
      "\u001b[1;32m<ipython-input-1-2c13efc84a6f>\u001b[0m in \u001b[0;36m<module>\u001b[1;34m\u001b[0m\n\u001b[1;32m----> 1\u001b[1;33m \u001b[0mtrain_dataset\u001b[0m\u001b[1;33m[\u001b[0m\u001b[1;36m0\u001b[0m\u001b[1;33m]\u001b[0m\u001b[1;33m[\u001b[0m\u001b[1;36m0\u001b[0m\u001b[1;33m]\u001b[0m\u001b[1;33m\u001b[0m\u001b[1;33m\u001b[0m\u001b[0m\n\u001b[0m\u001b[0;32m      2\u001b[0m \u001b[1;32mimport\u001b[0m \u001b[0mcv2\u001b[0m\u001b[1;33m\u001b[0m\u001b[1;33m\u001b[0m\u001b[0m\n\u001b[0;32m      3\u001b[0m \u001b[1;31m# image = cv2.imread()\u001b[0m\u001b[1;33m\u001b[0m\u001b[1;33m\u001b[0m\u001b[1;33m\u001b[0m\u001b[0m\n\u001b[0;32m      4\u001b[0m \u001b[0mcv2\u001b[0m\u001b[1;33m.\u001b[0m\u001b[0mimshow\u001b[0m\u001b[1;33m(\u001b[0m\u001b[1;34m'image'\u001b[0m\u001b[1;33m,\u001b[0m \u001b[0mtrain_dataset\u001b[0m\u001b[1;33m[\u001b[0m\u001b[1;36m0\u001b[0m\u001b[1;33m]\u001b[0m\u001b[1;33m[\u001b[0m\u001b[1;36m0\u001b[0m\u001b[1;33m]\u001b[0m\u001b[1;33m.\u001b[0m\u001b[0mnumpy\u001b[0m\u001b[1;33m(\u001b[0m\u001b[1;33m)\u001b[0m\u001b[1;33m)\u001b[0m\u001b[1;33m\u001b[0m\u001b[1;33m\u001b[0m\u001b[0m\n\u001b[0;32m      5\u001b[0m \u001b[0mcv2\u001b[0m\u001b[1;33m.\u001b[0m\u001b[0mwaitKey\u001b[0m\u001b[1;33m(\u001b[0m\u001b[1;36m0\u001b[0m\u001b[1;33m)\u001b[0m\u001b[1;33m\u001b[0m\u001b[1;33m\u001b[0m\u001b[0m\n",
      "\u001b[1;31mNameError\u001b[0m: name 'train_dataset' is not defined"
     ]
    }
   ],
   "source": [
    "train_dataset[0][0]\n",
    "# import cv2\n",
    "# # image = cv2.imread()\n",
    "# cv2.imshow('image', train_dataset[0][0].numpy())\n",
    "# cv2.waitKey(0)"
   ]
  },
  {
   "cell_type": "code",
   "execution_count": 61,
   "metadata": {},
   "outputs": [
    {
     "name": "stdout",
     "output_type": "stream",
     "text": [
      "torch.Size([3, 224, 224])\n",
      "torch.Size([3, 224, 224])\n",
      "torch.Size([3, 224, 224])\n",
      "torch.Size([3, 224, 224])\n",
      "torch.Size([3, 224, 224])\n",
      "torch.Size([3, 224, 224])\n",
      "torch.Size([3, 224, 224])\n",
      "torch.Size([3, 224, 224])\n",
      "torch.Size([3, 224, 224])\n",
      "torch.Size([3, 224, 224])\n"
     ]
    }
   ],
   "source": [
    "i = 0\n",
    "for x, y1, y1 in train_dataset:\n",
    "    i+=1\n",
    "    print(x.shape)\n",
    "    if i == 10:\n",
    "        break"
   ]
  },
  {
   "cell_type": "code",
   "execution_count": 62,
   "metadata": {},
   "outputs": [],
   "source": [
    "train_loader = DataLoader(train_dataset, batch_size=16, shuffle=True)\n",
    "val_loader = DataLoader(val_dataset, batch_size=64, shuffle=True)"
   ]
  },
  {
   "cell_type": "markdown",
   "metadata": {},
   "source": [
    "模型搭建"
   ]
  },
  {
   "cell_type": "code",
   "execution_count": 15,
   "metadata": {},
   "outputs": [],
   "source": [
    "class WeatherModel(nn.Module):\n",
    "    def __init__(self):\n",
    "        super(WeatherModel, self).__init__()\n",
    "        self.conv = nn.Sequential(\n",
    "            nn.Conv2d(3, 96, 11, 4),\n",
    "            nn.ReLU(),\n",
    "            nn.MaxPool2d(3, 2),\n",
    "            nn.Conv2d(96, 256, 5, 1, 2),\n",
    "            nn.ReLU(),\n",
    "            nn.MaxPool2d(3, 2),\n",
    "            nn.Conv2d(256, 384, 3, 1, 1),\n",
    "            nn.ReLU(),\n",
    "            nn.Conv2d(384, 256, 3, 1, 1),\n",
    "            nn.ReLU(),\n",
    "            nn.MaxPool2d(3, 2)\n",
    "        )\n",
    "        self.fc = nn.Sequential(\n",
    "            nn.Flatten(),\n",
    "            nn.Linear(6400, 4096),\n",
    "            nn.ReLU(),\n",
    "            nn.Dropout(0.5),\n",
    "            nn.Linear(4096, 4096),\n",
    "            nn.ReLU(),\n",
    "            nn.Dropout(0.5),\n",
    "            nn.Linear(4096, 10)\n",
    "        )\n",
    "        self.fc1 = nn.Linear(10, 4)\n",
    "        self.fc2 = nn.Linear(10, 3)\n",
    "\n",
    "    def forward(self, x):\n",
    "        out = self.conv(x)\n",
    "        fc = self.fc(out)\n",
    "        logist1 = self.fc1(fc)\n",
    "        logist2 = self.fc2(fc)\n",
    "        return logist1, logist2"
   ]
  },
  {
   "cell_type": "code",
   "execution_count": null,
   "metadata": {},
   "outputs": [],
   "source": []
  },
  {
   "cell_type": "code",
   "execution_count": 16,
   "metadata": {},
   "outputs": [
    {
     "data": {
      "text/plain": [
       "(tensor([[-0.2455,  0.1682, -0.1396,  0.0274],\n",
       "         [-0.2413,  0.1612, -0.1377,  0.0333],\n",
       "         [-0.2410,  0.1672, -0.1421,  0.0310],\n",
       "         [-0.2385,  0.1656, -0.1373,  0.0261],\n",
       "         [-0.2299,  0.1703, -0.1443,  0.0255],\n",
       "         [-0.2295,  0.1755, -0.1448,  0.0419],\n",
       "         [-0.2431,  0.1761, -0.1399,  0.0323],\n",
       "         [-0.2344,  0.1711, -0.1449,  0.0349],\n",
       "         [-0.2385,  0.1760, -0.1510,  0.0359],\n",
       "         [-0.2410,  0.1631, -0.1322,  0.0277]], grad_fn=<AddmmBackward>),\n",
       " tensor([[ 0.2052, -0.2900, -0.2383],\n",
       "         [ 0.2053, -0.2857, -0.2382],\n",
       "         [ 0.2077, -0.2870, -0.2365],\n",
       "         [ 0.2046, -0.2813, -0.2401],\n",
       "         [ 0.2085, -0.2813, -0.2352],\n",
       "         [ 0.2179, -0.2713, -0.2376],\n",
       "         [ 0.2059, -0.2716, -0.2391],\n",
       "         [ 0.2104, -0.2767, -0.2390],\n",
       "         [ 0.2065, -0.2758, -0.2404],\n",
       "         [ 0.2014, -0.2870, -0.2359]], grad_fn=<AddmmBackward>))"
      ]
     },
     "execution_count": 16,
     "metadata": {},
     "output_type": "execute_result"
    }
   ],
   "source": [
    "model = WeatherModel()\n",
    "model(torch.tensor(np.random.rand(10, 3, 224, 224).astype(np.float32)))"
   ]
  },
  {
   "cell_type": "markdown",
   "metadata": {},
   "source": [
    "模型训练"
   ]
  },
  {
   "cell_type": "code",
   "execution_count": 27,
   "metadata": {},
   "outputs": [],
   "source": [
    "device = torch.device('cuda' if torch.cuda.is_available() else 'cpu')\n",
    "model = model.to(device)"
   ]
  },
  {
   "cell_type": "code",
   "execution_count": null,
   "metadata": {},
   "outputs": [],
   "source": [
    "optimizer = torch.optim.Adam(params=model.parameters(), lr=0.0001)\n",
    "criterion = nn.CrossEntropyLoss()\n",
    "for epoch in range(10):\n",
    "    train_loss, val_loss = [], []\n",
    "    train_acc1, train_acc2 = [], []\n",
    "    val_acc1, val_acc2 = [], []\n",
    "\n",
    "    model.train()\n",
    "    for i, (x, y1, y2) in enumerate(train_loader):\n",
    "        x = x.to(device)\n",
    "        y1 = y1.to(device)\n",
    "        y2 = y2.to(device)\n",
    "        optimizer.zero_grad()\n",
    "        pred1, pred2 = model(x)\n",
    "        loss = criterion(pred1, y1) + criterion(pred2, y2)\n",
    "        train_loss.append(loss.item())\n",
    "        loss.backward()\n",
    "        optimizer.step()\n",
    "        train_acc1.append((pred1.argmax(1) == y1.flatten()).cpu().numpy().mean())\n",
    "        train_acc2.append((pred2.argmax(1) == y2.flatten()).cpu().numpy().mean())\n",
    "\n",
    "    model.eval()\n",
    "    for i,(x, y1, y2) in enumerate(val_loader):\n",
    "        x = x.to(device)\n",
    "        y1 = y1.to(device)\n",
    "        y2 = y2.to(device)\n",
    "        pred1, pred2 = model(x)\n",
    "        loss = criterion(pred1, y1) + criterion(pred2, y2)\n",
    "        val_loss.append(loss.item())\n",
    "        val_acc1.append((pred1.argmax(1) == y1.flatten()).cpu().numpy().mean())\n",
    "        val_acc2.append((pred2.argmax(1) == y2.flatten()).cpu().numpy().mean())\n",
    "\n",
    "    if epoch % 1 == 0:\n",
    "        print(f'\\nEpoch:{epoch}')\n",
    "        print(f'Loss:{np.mean(train_loss):3.5f}/{np.mean(val_loss):3.5f}')\n",
    "        print(f'period acc:{np.mean(train_acc1):3.5f}/{np.mean(val_acc1):3.5f}')\n",
    "        print(f'weather acc:{np.mean(train_acc2):3.5f}/{np.mean(val_acc2):3.5f}')"
   ]
  },
  {
   "cell_type": "code",
   "execution_count": 17,
   "metadata": {},
   "outputs": [
    {
     "data": {
      "text/plain": [
       "<All keys matched successfully>"
      ]
     },
     "execution_count": 17,
     "metadata": {},
     "output_type": "execute_result"
    }
   ],
   "source": [
    "path = 'alexnet.pth'\n",
    "# torch.save(model.state_dict(), path)\n",
    "model.load_state_dict(torch.load(path))"
   ]
  },
  {
   "cell_type": "code",
   "execution_count": null,
   "metadata": {},
   "outputs": [],
   "source": [
    "model(torch.tensor(np.random.rand(10, 3, 224, 224).astype(np.float32)))"
   ]
  },
  {
   "cell_type": "markdown",
   "metadata": {},
   "source": [
    "预测与提交"
   ]
  },
  {
   "cell_type": "code",
   "execution_count": 23,
   "metadata": {},
   "outputs": [],
   "source": [
    "import glob\n",
    "test_df = pd.DataFrame({'filename': glob.glob('../test_dataset/test_images/*.jpg')})\n",
    "test_df['period'] = 0\n",
    "test_df['weather'] = 0\n",
    "test_df = test_df.sort_values(by = 'filename')"
   ]
  },
  {
   "cell_type": "code",
   "execution_count": 25,
   "metadata": {},
   "outputs": [],
   "source": [
    "test_dataset = WeatherDataset(test_df)\n",
    "test_dataloader = DataLoader(test_dataset, batch_size=64, shuffle=False)"
   ]
  },
  {
   "cell_type": "code",
   "execution_count": 29,
   "metadata": {},
   "outputs": [],
   "source": [
    "model.eval()\n",
    "period_pred = []\n",
    "weather_pred = []\n",
    "for i, (x, y1, y2) in enumerate(test_dataloader):\n",
    "    x = x.to(device)\n",
    "    y1 = y1.to(device)\n",
    "    y2 = y2.to(device)\n",
    "    pred1, pred2 = model(x)\n",
    "    period_pred += period_dict[pred1.argmax(1).cpu().numpy()].tolist()\n",
    "    weather_pred += weather_dict[pred2.argmax(1).cpu().numpy()].tolist()\n",
    "\n",
    "test_df['period'] = period_pred\n",
    "test_df['weather'] = weather_pred"
   ]
  },
  {
   "cell_type": "code",
   "execution_count": 30,
   "metadata": {},
   "outputs": [
    {
     "data": {
      "text/html": [
       "<div>\n",
       "<style scoped>\n",
       "    .dataframe tbody tr th:only-of-type {\n",
       "        vertical-align: middle;\n",
       "    }\n",
       "\n",
       "    .dataframe tbody tr th {\n",
       "        vertical-align: top;\n",
       "    }\n",
       "\n",
       "    .dataframe thead th {\n",
       "        text-align: right;\n",
       "    }\n",
       "</style>\n",
       "<table border=\"1\" class=\"dataframe\">\n",
       "  <thead>\n",
       "    <tr style=\"text-align: right;\">\n",
       "      <th></th>\n",
       "      <th>filename</th>\n",
       "      <th>period</th>\n",
       "      <th>weather</th>\n",
       "    </tr>\n",
       "  </thead>\n",
       "  <tbody>\n",
       "    <tr>\n",
       "      <th>0</th>\n",
       "      <td>../test_dataset/test_images\\00008.jpg</td>\n",
       "      <td>Morning</td>\n",
       "      <td>Cloudy</td>\n",
       "    </tr>\n",
       "    <tr>\n",
       "      <th>1</th>\n",
       "      <td>../test_dataset/test_images\\00018.jpg</td>\n",
       "      <td>Morning</td>\n",
       "      <td>Cloudy</td>\n",
       "    </tr>\n",
       "    <tr>\n",
       "      <th>2</th>\n",
       "      <td>../test_dataset/test_images\\00020.jpg</td>\n",
       "      <td>Afternoon</td>\n",
       "      <td>Cloudy</td>\n",
       "    </tr>\n",
       "    <tr>\n",
       "      <th>3</th>\n",
       "      <td>../test_dataset/test_images\\00022.jpg</td>\n",
       "      <td>Morning</td>\n",
       "      <td>Sunny</td>\n",
       "    </tr>\n",
       "    <tr>\n",
       "      <th>4</th>\n",
       "      <td>../test_dataset/test_images\\00035.jpg</td>\n",
       "      <td>Afternoon</td>\n",
       "      <td>Cloudy</td>\n",
       "    </tr>\n",
       "    <tr>\n",
       "      <th>...</th>\n",
       "      <td>...</td>\n",
       "      <td>...</td>\n",
       "      <td>...</td>\n",
       "    </tr>\n",
       "    <tr>\n",
       "      <th>395</th>\n",
       "      <td>../test_dataset/test_images\\02970.jpg</td>\n",
       "      <td>Morning</td>\n",
       "      <td>Sunny</td>\n",
       "    </tr>\n",
       "    <tr>\n",
       "      <th>396</th>\n",
       "      <td>../test_dataset/test_images\\02973.jpg</td>\n",
       "      <td>Afternoon</td>\n",
       "      <td>Cloudy</td>\n",
       "    </tr>\n",
       "    <tr>\n",
       "      <th>397</th>\n",
       "      <td>../test_dataset/test_images\\02976.jpg</td>\n",
       "      <td>Morning</td>\n",
       "      <td>Rainy</td>\n",
       "    </tr>\n",
       "    <tr>\n",
       "      <th>398</th>\n",
       "      <td>../test_dataset/test_images\\02988.jpg</td>\n",
       "      <td>Morning</td>\n",
       "      <td>Sunny</td>\n",
       "    </tr>\n",
       "    <tr>\n",
       "      <th>399</th>\n",
       "      <td>../test_dataset/test_images\\02994.jpg</td>\n",
       "      <td>Morning</td>\n",
       "      <td>Sunny</td>\n",
       "    </tr>\n",
       "  </tbody>\n",
       "</table>\n",
       "<p>400 rows × 3 columns</p>\n",
       "</div>"
      ],
      "text/plain": [
       "                                  filename     period weather\n",
       "0    ../test_dataset/test_images\\00008.jpg    Morning  Cloudy\n",
       "1    ../test_dataset/test_images\\00018.jpg    Morning  Cloudy\n",
       "2    ../test_dataset/test_images\\00020.jpg  Afternoon  Cloudy\n",
       "3    ../test_dataset/test_images\\00022.jpg    Morning   Sunny\n",
       "4    ../test_dataset/test_images\\00035.jpg  Afternoon  Cloudy\n",
       "..                                     ...        ...     ...\n",
       "395  ../test_dataset/test_images\\02970.jpg    Morning   Sunny\n",
       "396  ../test_dataset/test_images\\02973.jpg  Afternoon  Cloudy\n",
       "397  ../test_dataset/test_images\\02976.jpg    Morning   Rainy\n",
       "398  ../test_dataset/test_images\\02988.jpg    Morning   Sunny\n",
       "399  ../test_dataset/test_images\\02994.jpg    Morning   Sunny\n",
       "\n",
       "[400 rows x 3 columns]"
      ]
     },
     "execution_count": 30,
     "metadata": {},
     "output_type": "execute_result"
    }
   ],
   "source": [
    "test_df"
   ]
  },
  {
   "cell_type": "code",
   "execution_count": 31,
   "metadata": {},
   "outputs": [],
   "source": [
    "import json"
   ]
  },
  {
   "cell_type": "code",
   "execution_count": 32,
   "metadata": {},
   "outputs": [],
   "source": [
    "submit_json = {'annotations':[]}\n",
    "for row in test_df.iterrows():\n",
    "    submit_json['annotations'].append({\n",
    "        'filename':'test_images\\\\' + row[1].filename.split('\\\\')[-1],\n",
    "        'period':row[1].period,\n",
    "        'weather':row[1].weather\n",
    "    })\n",
    "with open('submit.json', 'w') as up:\n",
    "    json.dump(submit_json, up)"
   ]
  },
  {
   "cell_type": "code",
   "execution_count": null,
   "metadata": {},
   "outputs": [],
   "source": []
  }
 ],
 "metadata": {
  "interpreter": {
   "hash": "eedd4133f4b706b017dbfea8535950f8f8a4d5c818f0b07b22d819b4fab5ae93"
  },
  "kernelspec": {
   "display_name": "Python 3.6.13 64-bit ('pytorch': conda)",
   "language": "python",
   "name": "python3"
  },
  "language_info": {
   "codemirror_mode": {
    "name": "ipython",
    "version": 3
   },
   "file_extension": ".py",
   "mimetype": "text/x-python",
   "name": "python",
   "nbconvert_exporter": "python",
   "pygments_lexer": "ipython3",
   "version": "3.6.13"
  },
  "orig_nbformat": 4
 },
 "nbformat": 4,
 "nbformat_minor": 2
}
