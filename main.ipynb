{
 "cells": [
  {
   "cell_type": "markdown",
   "metadata": {},
   "source": [
    "读取数据"
   ]
  },
  {
   "cell_type": "code",
   "execution_count": 1,
   "metadata": {},
   "outputs": [],
   "source": [
    "import pandas as pd"
   ]
  },
  {
   "cell_type": "code",
   "execution_count": 2,
   "metadata": {},
   "outputs": [],
   "source": [
    "train_json = pd.read_json('../train_dataset/train.json')"
   ]
  },
  {
   "cell_type": "code",
   "execution_count": 3,
   "metadata": {},
   "outputs": [
    {
     "data": {
      "text/plain": [
       "{'filename': 'train_images\\\\00001.jpg',\n",
       " 'period': 'Morning',\n",
       " 'weather': 'Cloudy'}"
      ]
     },
     "execution_count": 3,
     "metadata": {},
     "output_type": "execute_result"
    }
   ],
   "source": [
    "train_json['annotations'][0]"
   ]
  },
  {
   "cell_type": "code",
   "execution_count": 4,
   "metadata": {},
   "outputs": [],
   "source": [
    "train_json['filename'] = train_json['annotations'].apply(lambda x : x['filename'].replace('\\\\', '/'))\n",
    "train_json['period'] = train_json['annotations'].apply(lambda x : x['period'])\n",
    "train_json['weather'] = train_json['annotations'].apply(lambda x : x['weather'])\n"
   ]
  },
  {
   "cell_type": "code",
   "execution_count": 5,
   "metadata": {},
   "outputs": [
    {
     "data": {
      "text/html": [
       "<div>\n",
       "<style scoped>\n",
       "    .dataframe tbody tr th:only-of-type {\n",
       "        vertical-align: middle;\n",
       "    }\n",
       "\n",
       "    .dataframe tbody tr th {\n",
       "        vertical-align: top;\n",
       "    }\n",
       "\n",
       "    .dataframe thead th {\n",
       "        text-align: right;\n",
       "    }\n",
       "</style>\n",
       "<table border=\"1\" class=\"dataframe\">\n",
       "  <thead>\n",
       "    <tr style=\"text-align: right;\">\n",
       "      <th></th>\n",
       "      <th>annotations</th>\n",
       "      <th>filename</th>\n",
       "      <th>period</th>\n",
       "      <th>weather</th>\n",
       "    </tr>\n",
       "  </thead>\n",
       "  <tbody>\n",
       "    <tr>\n",
       "      <th>0</th>\n",
       "      <td>{'filename': 'train_images\\00001.jpg', 'period...</td>\n",
       "      <td>train_images/00001.jpg</td>\n",
       "      <td>Morning</td>\n",
       "      <td>Cloudy</td>\n",
       "    </tr>\n",
       "    <tr>\n",
       "      <th>1</th>\n",
       "      <td>{'filename': 'train_images\\00002.jpg', 'period...</td>\n",
       "      <td>train_images/00002.jpg</td>\n",
       "      <td>Afternoon</td>\n",
       "      <td>Cloudy</td>\n",
       "    </tr>\n",
       "    <tr>\n",
       "      <th>2</th>\n",
       "      <td>{'filename': 'train_images\\00003.jpg', 'period...</td>\n",
       "      <td>train_images/00003.jpg</td>\n",
       "      <td>Morning</td>\n",
       "      <td>Cloudy</td>\n",
       "    </tr>\n",
       "    <tr>\n",
       "      <th>3</th>\n",
       "      <td>{'filename': 'train_images\\00004.jpg', 'period...</td>\n",
       "      <td>train_images/00004.jpg</td>\n",
       "      <td>Morning</td>\n",
       "      <td>Sunny</td>\n",
       "    </tr>\n",
       "    <tr>\n",
       "      <th>4</th>\n",
       "      <td>{'filename': 'train_images\\00005.jpg', 'period...</td>\n",
       "      <td>train_images/00005.jpg</td>\n",
       "      <td>Afternoon</td>\n",
       "      <td>Cloudy</td>\n",
       "    </tr>\n",
       "  </tbody>\n",
       "</table>\n",
       "</div>"
      ],
      "text/plain": [
       "                                         annotations                filename  \\\n",
       "0  {'filename': 'train_images\\00001.jpg', 'period...  train_images/00001.jpg   \n",
       "1  {'filename': 'train_images\\00002.jpg', 'period...  train_images/00002.jpg   \n",
       "2  {'filename': 'train_images\\00003.jpg', 'period...  train_images/00003.jpg   \n",
       "3  {'filename': 'train_images\\00004.jpg', 'period...  train_images/00004.jpg   \n",
       "4  {'filename': 'train_images\\00005.jpg', 'period...  train_images/00005.jpg   \n",
       "\n",
       "      period weather  \n",
       "0    Morning  Cloudy  \n",
       "1  Afternoon  Cloudy  \n",
       "2    Morning  Cloudy  \n",
       "3    Morning   Sunny  \n",
       "4  Afternoon  Cloudy  "
      ]
     },
     "execution_count": 5,
     "metadata": {},
     "output_type": "execute_result"
    }
   ],
   "source": [
    "train_json.head()"
   ]
  },
  {
   "cell_type": "markdown",
   "metadata": {},
   "source": [
    "标签编码"
   ]
  },
  {
   "cell_type": "code",
   "execution_count": 6,
   "metadata": {},
   "outputs": [],
   "source": [
    "train_json['period'], period_dict = pd.factorize(train_json['period'])\n",
    "train_json['weather'], weather_dict = pd.factorize(train_json['weather'])\n"
   ]
  },
  {
   "cell_type": "code",
   "execution_count": 7,
   "metadata": {},
   "outputs": [
    {
     "data": {
      "text/plain": [
       "(Index(['Morning', 'Afternoon', 'Dawn', 'Dusk'], dtype='object'),\n",
       " Index(['Cloudy', 'Sunny', 'Rainy'], dtype='object'))"
      ]
     },
     "execution_count": 7,
     "metadata": {},
     "output_type": "execute_result"
    }
   ],
   "source": [
    "period_dict,weather_dict"
   ]
  },
  {
   "cell_type": "markdown",
   "metadata": {},
   "source": [
    "统计标签"
   ]
  },
  {
   "cell_type": "code",
   "execution_count": 8,
   "metadata": {},
   "outputs": [
    {
     "data": {
      "text/plain": [
       "0    1613\n",
       "1     829\n",
       "3     124\n",
       "2      34\n",
       "Name: period, dtype: int64"
      ]
     },
     "execution_count": 8,
     "metadata": {},
     "output_type": "execute_result"
    }
   ],
   "source": [
    "train_json['period'].value_counts()"
   ]
  },
  {
   "cell_type": "code",
   "execution_count": 9,
   "metadata": {},
   "outputs": [
    {
     "data": {
      "text/plain": [
       "0    1119\n",
       "1     886\n",
       "2     595\n",
       "Name: weather, dtype: int64"
      ]
     },
     "execution_count": 9,
     "metadata": {},
     "output_type": "execute_result"
    }
   ],
   "source": [
    "train_json['weather'].value_counts()"
   ]
  },
  {
   "cell_type": "code",
   "execution_count": 10,
   "metadata": {},
   "outputs": [],
   "source": [
    "from torchvision import transforms as T\n",
    "from PIL import Image\n",
    "import torch\n",
    "from torch.utils.data import DataLoader, Dataset\n",
    "from torch import nn\n",
    "import numpy as np"
   ]
  },
  {
   "cell_type": "code",
   "execution_count": null,
   "metadata": {},
   "outputs": [],
   "source": []
  },
  {
   "cell_type": "code",
   "execution_count": 11,
   "metadata": {},
   "outputs": [],
   "source": [
    "class WeatherDataset(Dataset):\n",
    "    def __init__(self, df):\n",
    "        super(WeatherDataset, self).__init__()\n",
    "        self.df = df\n",
    "\n",
    "        self.transform = T.Compose([\n",
    "            T.Resize(size=(340, 340)),\n",
    "            T.RandomCrop(size=(224, 224)),\n",
    "            T.RandomRotation(10),\n",
    "            T.RandomHorizontalFlip(),\n",
    "            T.RandomVerticalFlip(),\n",
    "            T.ToTensor(),\n",
    "            T.Normalize((0.5,), (0.5,))\n",
    "        ])\n",
    "\n",
    "    def __getitem__(self, index):\n",
    "        file_name = '../train_dataset/' + self.df['filename'].iloc[index]\n",
    "        img = Image.open(file_name)\n",
    "        img = self.transform(img)\n",
    "        return img, torch.tensor(self.df['period'].iloc[index]), torch.tensor(self.df['weather'].iloc[index])\n",
    "    def __len__(self):\n",
    "        return len(self.df)"
   ]
  },
  {
   "cell_type": "code",
   "execution_count": 12,
   "metadata": {},
   "outputs": [],
   "source": [
    "train_dataset = WeatherDataset(train_json.iloc[:-500])\n",
    "val_dataset = WeatherDataset(train_json.iloc[-500:])"
   ]
  },
  {
   "cell_type": "code",
   "execution_count": 13,
   "metadata": {},
   "outputs": [
    {
     "name": "stdout",
     "output_type": "stream",
     "text": [
      "torch.Size([3, 224, 224])\n",
      "torch.Size([3, 224, 224])\n",
      "torch.Size([3, 224, 224])\n",
      "torch.Size([3, 224, 224])\n",
      "torch.Size([3, 224, 224])\n",
      "torch.Size([3, 224, 224])\n",
      "torch.Size([3, 224, 224])\n",
      "torch.Size([3, 224, 224])\n",
      "torch.Size([3, 224, 224])\n",
      "torch.Size([3, 224, 224])\n"
     ]
    }
   ],
   "source": [
    "i = 0\n",
    "for x, y1, y1 in train_dataset:\n",
    "    i+=1\n",
    "    print(x.shape)\n",
    "    if i == 10:\n",
    "        break"
   ]
  },
  {
   "cell_type": "code",
   "execution_count": 14,
   "metadata": {},
   "outputs": [],
   "source": [
    "train_loader = DataLoader(train_dataset, batch_size=4, shuffle=True)\n",
    "val_loader = DataLoader(val_dataset, batch_size=4, shuffle=True)"
   ]
  },
  {
   "cell_type": "markdown",
   "metadata": {},
   "source": [
    "模型搭建"
   ]
  },
  {
   "cell_type": "code",
   "execution_count": 15,
   "metadata": {},
   "outputs": [],
   "source": [
    "class WeatherModel(nn.Module):\n",
    "    def __init__(self):\n",
    "        super(WeatherModel, self).__init__()\n",
    "        self.conv = nn.Sequential(\n",
    "            nn.Conv2d(3, 96, 11, 4),\n",
    "            nn.ReLU(),\n",
    "            nn.MaxPool2d(3, 2),\n",
    "            nn.Conv2d(96, 256, 5, 1, 2),\n",
    "            nn.ReLU(),\n",
    "            nn.MaxPool2d(3, 2),\n",
    "            nn.Conv2d(256, 384, 3, 1, 1),\n",
    "            nn.ReLU(),\n",
    "            nn.Conv2d(384, 256, 3, 1, 1),\n",
    "            nn.ReLU(),\n",
    "            nn.MaxPool2d(3, 2)\n",
    "        )\n",
    "        self.fc = nn.Sequential(\n",
    "            nn.Flatten(),\n",
    "            nn.Linear(6400, 4096),\n",
    "            nn.ReLU(),\n",
    "            nn.Dropout(0.5),\n",
    "            nn.Linear(4096, 4096),\n",
    "            nn.ReLU(),\n",
    "            nn.Dropout(0.5),\n",
    "            nn.Linear(4096, 10)\n",
    "        )\n",
    "        self.fc1 = nn.Linear(10, 4)\n",
    "        self.fc2 = nn.Linear(10, 3)\n",
    "\n",
    "    def forward(self, x):\n",
    "        out = self.conv(x)\n",
    "        fc = self.fc(out)\n",
    "        logist1 = self.fc1(fc)\n",
    "        logist2 = self.fc2(fc)\n",
    "        return logist1, logist2"
   ]
  },
  {
   "cell_type": "code",
   "execution_count": 16,
   "metadata": {},
   "outputs": [
    {
     "data": {
      "text/plain": [
       "(tensor([[ 0.2707, -0.2762, -0.0278, -0.1123],\n",
       "         [ 0.2885, -0.2712, -0.0255, -0.1009],\n",
       "         [ 0.2854, -0.2857, -0.0331, -0.0960],\n",
       "         [ 0.2811, -0.2723, -0.0313, -0.1082],\n",
       "         [ 0.2783, -0.2835, -0.0269, -0.1069],\n",
       "         [ 0.2784, -0.2761, -0.0376, -0.1103],\n",
       "         [ 0.2889, -0.2762, -0.0260, -0.0970],\n",
       "         [ 0.2858, -0.2709, -0.0386, -0.1094],\n",
       "         [ 0.2827, -0.2724, -0.0277, -0.1019],\n",
       "         [ 0.2791, -0.2707, -0.0371, -0.1077]], grad_fn=<AddmmBackward>),\n",
       " tensor([[-0.2941, -0.0799, -0.0146],\n",
       "         [-0.3071, -0.0796, -0.0158],\n",
       "         [-0.2934, -0.0764, -0.0115],\n",
       "         [-0.3006, -0.0781, -0.0192],\n",
       "         [-0.2974, -0.0749, -0.0118],\n",
       "         [-0.2957, -0.0690, -0.0204],\n",
       "         [-0.2973, -0.0836, -0.0013],\n",
       "         [-0.2935, -0.0756, -0.0145],\n",
       "         [-0.3009, -0.0829, -0.0134],\n",
       "         [-0.2927, -0.0714, -0.0173]], grad_fn=<AddmmBackward>))"
      ]
     },
     "execution_count": 16,
     "metadata": {},
     "output_type": "execute_result"
    }
   ],
   "source": [
    "model = WeatherModel()\n",
    "model(torch.tensor(np.random.rand(10, 3, 224, 224).astype(np.float32)))"
   ]
  },
  {
   "cell_type": "markdown",
   "metadata": {},
   "source": [
    "模型训练"
   ]
  },
  {
   "cell_type": "code",
   "execution_count": 17,
   "metadata": {},
   "outputs": [],
   "source": [
    "device = torch.device('cuda' if torch.cuda.is_available() else 'cpu')\n",
    "model = model.to(device)"
   ]
  },
  {
   "cell_type": "code",
   "execution_count": 19,
   "metadata": {},
   "outputs": [
    {
     "name": "stdout",
     "output_type": "stream",
     "text": [
      "\n",
      "Epoch:0\n",
      "Loss:1.76751/2.00032\n",
      "period acc:0.62524/0.59600\n",
      "weather acc:0.61238/0.33800\n",
      "\n",
      "Epoch:1\n",
      "Loss:1.63037/1.74520\n",
      "period acc:0.62286/0.59600\n",
      "weather acc:0.70429/0.55600\n",
      "\n",
      "Epoch:2\n",
      "Loss:1.52659/1.87893\n",
      "period acc:0.62333/0.59600\n",
      "weather acc:0.73619/0.49400\n",
      "\n",
      "Epoch:3\n",
      "Loss:1.46820/2.20197\n",
      "period acc:0.62571/0.59600\n",
      "weather acc:0.73762/0.46600\n",
      "\n",
      "Epoch:4\n",
      "Loss:1.43044/2.03916\n",
      "period acc:0.63476/0.56800\n",
      "weather acc:0.75714/0.49400\n",
      "\n",
      "Epoch:5\n",
      "Loss:1.40575/2.44580\n",
      "period acc:0.63429/0.58200\n",
      "weather acc:0.76667/0.43600\n",
      "\n",
      "Epoch:6\n",
      "Loss:1.35225/1.95673\n",
      "period acc:0.64810/0.59600\n",
      "weather acc:0.77810/0.58800\n",
      "\n",
      "Epoch:7\n",
      "Loss:1.30548/2.05118\n",
      "period acc:0.65905/0.59800\n",
      "weather acc:0.78286/0.46000\n",
      "\n",
      "Epoch:8\n",
      "Loss:1.28649/1.57838\n",
      "period acc:0.66810/0.64400\n",
      "weather acc:0.78714/0.66600\n",
      "\n",
      "Epoch:9\n",
      "Loss:1.21244/1.57354\n",
      "period acc:0.68190/0.67600\n",
      "weather acc:0.79190/0.62600\n"
     ]
    }
   ],
   "source": [
    "optimizer = torch.optim.Adam(params=model.parameters(), lr=0.0001)\n",
    "criterion = nn.CrossEntropyLoss()\n",
    "for epoch in range(10):\n",
    "    train_loss, val_loss = [], []\n",
    "    train_acc1, train_acc2 = [], []\n",
    "    val_acc1, val_acc2 = [], []\n",
    "\n",
    "    model.train()\n",
    "    for i, (x, y1, y2) in enumerate(train_loader):\n",
    "        x = x.to(device)\n",
    "        y1 = y1.to(device)\n",
    "        y2 = y2.to(device)\n",
    "        optimizer.zero_grad()\n",
    "        pred1, pred2 = model(x)\n",
    "        loss = criterion(pred1, y1) + criterion(pred2, y2)\n",
    "        train_loss.append(loss.item())\n",
    "        loss.backward()\n",
    "        optimizer.step()\n",
    "        train_acc1.append((pred1.argmax(1) == y1.flatten()).cpu().numpy().mean())\n",
    "        train_acc2.append((pred2.argmax(1) == y2.flatten()).cpu().numpy().mean())\n",
    "\n",
    "    model.eval()\n",
    "    for i,(x, y1, y2) in enumerate(val_loader):\n",
    "        x = x.to(device)\n",
    "        y1 = y1.to(device)\n",
    "        y2 = y2.to(device)\n",
    "        pred1, pred2 = model(x)\n",
    "        loss = criterion(pred1, y1) + criterion(pred2, y2)\n",
    "        val_loss.append(loss.item())\n",
    "        val_acc1.append((pred1.argmax(1) == y1.flatten()).cpu().numpy().mean())\n",
    "        val_acc2.append((pred2.argmax(1) == y2.flatten()).cpu().numpy().mean())\n",
    "\n",
    "    if epoch % 1 == 0:\n",
    "        print(f'\\nEpoch:{epoch}')\n",
    "        print(f'Loss:{np.mean(train_loss):3.5f}/{np.mean(val_loss):3.5f}')\n",
    "        print(f'period acc:{np.mean(train_acc1):3.5f}/{np.mean(val_acc1):3.5f}')\n",
    "        print(f'weather acc:{np.mean(train_acc2):3.5f}/{np.mean(val_acc2):3.5f}')"
   ]
  },
  {
   "cell_type": "code",
   "execution_count": 20,
   "metadata": {},
   "outputs": [],
   "source": [
    "path = 'alexnet.pth'\n",
    "torch.save(model.state_dict(), path)\n"
   ]
  },
  {
   "cell_type": "code",
   "execution_count": null,
   "metadata": {},
   "outputs": [],
   "source": []
  }
 ],
 "metadata": {
  "interpreter": {
   "hash": "eedd4133f4b706b017dbfea8535950f8f8a4d5c818f0b07b22d819b4fab5ae93"
  },
  "kernelspec": {
   "display_name": "Python 3.6.13 64-bit ('pytorch': conda)",
   "language": "python",
   "name": "python3"
  },
  "language_info": {
   "codemirror_mode": {
    "name": "ipython",
    "version": 3
   },
   "file_extension": ".py",
   "mimetype": "text/x-python",
   "name": "python",
   "nbconvert_exporter": "python",
   "pygments_lexer": "ipython3",
   "version": "3.6.13"
  },
  "orig_nbformat": 4
 },
 "nbformat": 4,
 "nbformat_minor": 2
}
